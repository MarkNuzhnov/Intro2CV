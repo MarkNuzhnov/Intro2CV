{
 "cells": [
  {
   "cell_type": "code",
   "execution_count": 2,
   "id": "fedafdcd",
   "metadata": {},
   "outputs": [],
   "source": [
    "import cv2\n",
    "\n",
    "\n",
    "img = cv2.imread('pepega.png')"
   ]
  },
  {
   "cell_type": "code",
   "execution_count": 4,
   "id": "f26d1448",
   "metadata": {},
   "outputs": [
    {
     "data": {
      "text/plain": [
       "54.26754321889457"
      ]
     },
     "execution_count": 4,
     "metadata": {},
     "output_type": "execute_result"
    }
   ],
   "source": [
    "img.mean()"
   ]
  },
  {
   "cell_type": "code",
   "execution_count": 8,
   "id": "06cd64a9",
   "metadata": {},
   "outputs": [],
   "source": [
    "import numpy as np\n",
    "\n",
    "with open('model.npy', 'wb') as f:\n",
    "    np.save(f, np.array([img.mean(), img.std()]))"
   ]
  },
  {
   "cell_type": "code",
   "execution_count": 9,
   "id": "a8a0f96c",
   "metadata": {},
   "outputs": [],
   "source": [
    "def predict(img, model_path):\n",
    "    with open(model_path, 'rb') as f:\n",
    "        model = np.load(f)\n",
    "    \n",
    "    mean, std = model[0], model[1]\n",
    "    \n",
    "    return img - model[0] / model[1]"
   ]
  },
  {
   "cell_type": "code",
   "execution_count": 12,
   "id": "befcc2ea",
   "metadata": {},
   "outputs": [],
   "source": [
    "def train(img, save_model_path):\n",
    "    with open(save_model_path, 'wb') as f:\n",
    "        np.save(f, np.array([img.mean(), img.std()]))"
   ]
  },
  {
   "cell_type": "code",
   "execution_count": null,
   "id": "7b18eb1f",
   "metadata": {},
   "outputs": [],
   "source": []
  }
 ],
 "metadata": {
  "kernelspec": {
   "display_name": "Python 3 (ipykernel)",
   "language": "python",
   "name": "python3"
  },
  "language_info": {
   "codemirror_mode": {
    "name": "ipython",
    "version": 3
   },
   "file_extension": ".py",
   "mimetype": "text/x-python",
   "name": "python",
   "nbconvert_exporter": "python",
   "pygments_lexer": "ipython3",
   "version": "3.9.7"
  }
 },
 "nbformat": 4,
 "nbformat_minor": 5
}
